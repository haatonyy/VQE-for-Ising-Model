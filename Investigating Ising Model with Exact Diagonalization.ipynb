{
 "cells": [
  {
   "cell_type": "code",
   "execution_count": 2,
   "metadata": {},
   "outputs": [],
   "source": [
    "import numpy as np\n",
    "from sympy.physics.quantum import TensorProduct\n",
    "from numpy import linalg as LA\n",
    "from matplotlib import pyplot as plt\n",
    "import cmath"
   ]
  },
  {
   "cell_type": "code",
   "execution_count": 3,
   "metadata": {},
   "outputs": [],
   "source": [
    "X = np.array([[0, 1],\n",
    "     [1, 0]])\n",
    "Z = np.array([[1, 0],\n",
    "     [0, -1]])\n",
    "I = np.array([[1, 0],\n",
    "     [0, 1]])"
   ]
  },
  {
   "cell_type": "code",
   "execution_count": 4,
   "metadata": {},
   "outputs": [],
   "source": [
    "def tensorproduct_via_list(lst):\n",
    "    product = lst[0]\n",
    "    for i in range(len(lst)-1):\n",
    "        product = TensorProduct(product, lst[i+1])\n",
    "    return product"
   ]
  },
  {
   "cell_type": "code",
   "execution_count": 5,
   "metadata": {},
   "outputs": [],
   "source": [
    "#Generates the magnetic_term (term X) of Ising models' hamiltonian\n",
    "#Parameters: int n (number of qubits), float h (magnetic constant)\n",
    "#Return: the 2D array (2^n * 2^n matrix) of the X term\n",
    "def X_term(n, h):\n",
    "    \n",
    "    def term_i_X(i):\n",
    "        list_ith = []\n",
    "        for j in range(n):\n",
    "            if j == i:\n",
    "                list_ith.append(X)\n",
    "            else:\n",
    "                list_ith.append(I)    \n",
    "        return tensorproduct_via_list(list_ith)\n",
    "    \n",
    "    total = np.zeros((2**n,2**n))\n",
    "    \n",
    "    for k in range(n):\n",
    "        total = total + term_i_X(k)\n",
    "        \n",
    "    return -h * total"
   ]
  },
  {
   "cell_type": "code",
   "execution_count": 6,
   "metadata": {},
   "outputs": [
    {
     "data": {
      "text/plain": [
       "array([[-0., -2., -2., -0.],\n",
       "       [-2., -0., -0., -2.],\n",
       "       [-2., -0., -0., -2.],\n",
       "       [-0., -2., -2., -0.]])"
      ]
     },
     "execution_count": 6,
     "metadata": {},
     "output_type": "execute_result"
    }
   ],
   "source": [
    "X_term(2, 2)"
   ]
  },
  {
   "cell_type": "code",
   "execution_count": 91,
   "metadata": {},
   "outputs": [],
   "source": [
    "#Generates the exchanging term (ZZ term) of Ising Model's Hamiltonian\n",
    "#Parameters: int n (number of qubits)\n",
    "#Returns: the 2D array (2^n * 2 ^n matrix) of the ZZ term\n",
    "def ZZ_term(n):\n",
    "    if n ==1:\n",
    "        return np.array([[0,0], [0,0]])\n",
    "    \n",
    "    #Generates list_ith = [I, ..., I,  Z, Z, I, ... ,I]\n",
    "    def term_i_ZZ(i):\n",
    "        \n",
    "        list_ith = []\n",
    "        for j in range(n):\n",
    "            if j == i or j == i+1:\n",
    "                list_ith.append(Z)\n",
    "            else:\n",
    "                list_ith.append(I)\n",
    "        \n",
    "        return tensorproduct_via_list(list_ith)\n",
    "\n",
    "    total = np.zeros((2**n,2**n))\n",
    "    \n",
    "    for k in range(n-1):\n",
    "        total = total + term_i_ZZ(k)\n",
    "    \n",
    "    \n",
    "    \n",
    "    #Generates list_edge = [Z, I, I, ..., I, I, Z]\n",
    "    list_edge = []\n",
    "    for j in range(n):\n",
    "        if j == 0 or j == n-1:\n",
    "            list_edge.append(Z)\n",
    "        else:\n",
    "            list_edge.append(I)\n",
    "    \n",
    "    total = total + tensorproduct_via_list(list_edge)\n",
    "    return -total"
   ]
  },
  {
   "cell_type": "code",
   "execution_count": 93,
   "metadata": {},
   "outputs": [
    {
     "data": {
      "text/plain": [
       "array([[-2., -0., -0., -0.],\n",
       "       [-0.,  2., -0., -0.],\n",
       "       [-0., -0.,  2., -0.],\n",
       "       [-0., -0., -0., -2.]])"
      ]
     },
     "execution_count": 93,
     "metadata": {},
     "output_type": "execute_result"
    }
   ],
   "source": [
    "ZZ_term(2)"
   ]
  },
  {
   "cell_type": "code",
   "execution_count": 97,
   "metadata": {},
   "outputs": [],
   "source": [
    "#Generates the Hamiltonian of the ising system\n",
    "#Parameters: int n (number of qubits), float h (magnetic constant)\n",
    "def get_ising_hamiltonian_matrix(n,h):\n",
    "    def X_term(n, h):\n",
    "    \n",
    "        def term_i_X(i):\n",
    "            list_ith = []\n",
    "            for j in range(n):\n",
    "                if j == i:\n",
    "                    list_ith.append(X)\n",
    "                else:\n",
    "                    list_ith.append(I)    \n",
    "            return tensorproduct_via_list(list_ith)\n",
    "    \n",
    "        total = np.zeros((2**n,2**n))\n",
    "    \n",
    "        for k in range(n):\n",
    "            total = total + term_i_X(k)\n",
    "        \n",
    "        return -h * total\n",
    "    def ZZ_term(n):\n",
    "        if n ==1:\n",
    "            return np.array([[0,0], [0,0]])\n",
    "    #Generates list_ith = [I, ..., I,  Z, Z, I, ... ,I]\n",
    "        def term_i_ZZ(i):\n",
    "        \n",
    "            list_ith = []\n",
    "            for j in range(n):\n",
    "                if j == i or j == i+1:\n",
    "                    list_ith.append(Z)\n",
    "                else:\n",
    "                    list_ith.append(I)\n",
    "        \n",
    "            return tensorproduct_via_list(list_ith)\n",
    "\n",
    "        total = np.zeros((2**n,2**n))\n",
    "    \n",
    "        for k in range(n-1):\n",
    "            total = total + term_i_ZZ(k)\n",
    "    \n",
    "    \n",
    "    \n",
    "        #Generates list_edge = [Z, I, I, ..., I, I, Z]\n",
    "        list_edge = []\n",
    "        for j in range(n):\n",
    "            if j == 0 or j == n-1:\n",
    "                list_edge.append(Z)\n",
    "            else:\n",
    "                list_edge.append(I)\n",
    "    \n",
    "        total = total + tensorproduct_via_list(list_edge)\n",
    "        return -total\n",
    "    \n",
    "    H = ZZ_term(n) + X_term(n,h)\n",
    "    return H"
   ]
  },
  {
   "cell_type": "code",
   "execution_count": 14,
   "metadata": {},
   "outputs": [
    {
     "name": "stdout",
     "output_type": "stream",
     "text": [
      "[[-3. -2. -2. -0. -2. -0. -0. -0.]\n",
      " [-2.  1. -0. -2. -0. -2. -0. -0.]\n",
      " [-2. -0.  1. -2. -0. -0. -2. -0.]\n",
      " [-0. -2. -2.  1. -0. -0. -0. -2.]\n",
      " [-2. -0. -0. -0.  1. -2. -2. -0.]\n",
      " [-0. -2. -0. -0. -2.  1. -0. -2.]\n",
      " [-0. -0. -2. -0. -2. -0.  1. -2.]\n",
      " [-0. -0. -0. -2. -0. -2. -2. -3.]]\n"
     ]
    }
   ],
   "source": [
    "H_3_2 = get_ising_hamiltonian_matrix(3,2)\n",
    "print(H_3_2)"
   ]
  },
  {
   "cell_type": "code",
   "execution_count": 17,
   "metadata": {},
   "outputs": [],
   "source": [
    "class Hamiltonian():\n",
    "    def __init__(self, hamiltonian_matrix):\n",
    "        self.matrix = hamiltonian_matrix\n",
    "        self.eigenstate = LA.eig(self.matrix)\n",
    "        self.energy = LA.eig(self.matrix)[0]\n",
    "        \n",
    "        min_energy = self.energy[0]\n",
    "        min_energy_idx = 0\n",
    "        for i in range(len(self.energy)):\n",
    "            if self.energy[i] < min_energy:\n",
    "                min_energy = self.energy[i]\n",
    "                min_energy_idx = i\n",
    "        \n",
    "        self.min_energy = min_energy   \n",
    "        self.ground_state = LA.eig(self.matrix)[1][:, min_energy_idx]\n",
    "\n",
    "class Ising_Hamiltonian(Hamiltonian):\n",
    "    def __init__(self, num_qubits, h = 1):\n",
    "        self.num_qubits = num_qubits\n",
    "        self.h = h\n",
    "        self.matrix = get_ising_hamiltonian_matrix(num_qubits, h)\n",
    "        Hamiltonian.__init__(self, self.matrix)\n"
   ]
  },
  {
   "cell_type": "code",
   "execution_count": 104,
   "metadata": {},
   "outputs": [
    {
     "data": {
      "text/plain": [
       "-1.9999999999999996"
      ]
     },
     "execution_count": 104,
     "metadata": {},
     "output_type": "execute_result"
    }
   ],
   "source": [
    "H = Ising_Hamiltonian(1,2)\n",
    "H.min_energy"
   ]
  },
  {
   "cell_type": "code",
   "execution_count": 98,
   "metadata": {},
   "outputs": [],
   "source": [
    "h_range = np.linspace(0,2,20)\n",
    "with open('Exact_E_range.txt', 'w') as outfile:\n",
    "\n",
    "    for n in range(1, 5, 1):\n",
    "        E_range = []\n",
    "        for h in h_range:\n",
    "            H = Ising_Hamiltonian(num_qubits = n, h = h)\n",
    "            E_range.append(H.min_energy)\n",
    "            \n",
    "        E_range = list(map(lambda x: x/n, E_range))\n",
    "        \n",
    "        for i in range(len(E_range)-1):\n",
    "            outfile.write('{ground_energy} '.format(ground_energy = E_range[i]))\n",
    "        outfile.write('{}\\n'.format(E_range[-1]))"
   ]
  },
  {
   "cell_type": "code",
   "execution_count": 99,
   "metadata": {},
   "outputs": [],
   "source": [
    "def get_E_range(file, n):\n",
    "    with open(file, 'r') as infile:\n",
    "        for i in range(1, n+1):\n",
    "            line = infile.readline().split(' ')\n",
    "    E_range = []\n",
    "    for element in line:\n",
    "        E_range.append(complex(element))\n",
    "        \n",
    "    return E_range"
   ]
  },
  {
   "cell_type": "code",
   "execution_count": 100,
   "metadata": {},
   "outputs": [
    {
     "data": {
      "text/plain": [
       "[(-1+0j),\n",
       " (-1.0029172392991268+0j),\n",
       " (-1.012257949926227+0j),\n",
       " (-1.0288632926758146+0j),\n",
       " (-1.0534284786616952+0j),\n",
       " (-1.0863886888826075+0j),\n",
       " (-1.1278356834067804+0j),\n",
       " (-1.177499021376562+0j),\n",
       " (-1.2348002109808474+0j),\n",
       " (-1.2989564623667418+0j),\n",
       " (-1.369095484068181+0j),\n",
       " (-1.4443501164832224+0j),\n",
       " (-1.5239197262968904+0j),\n",
       " (-1.6071003647530555+0j),\n",
       " (-1.6932925195185922+0j),\n",
       " (-1.7819957493399936+0j),\n",
       " (-1.872797183492377+0j),\n",
       " (-1.9653582149735949+0j),\n",
       " (-2.059401681437348+0j),\n",
       " (-2.1547005383792515+0j)]"
      ]
     },
     "execution_count": 100,
     "metadata": {},
     "output_type": "execute_result"
    }
   ],
   "source": [
    "get_E_range('Exact_E_range.txt', 3)"
   ]
  },
  {
   "cell_type": "code",
   "execution_count": 101,
   "metadata": {},
   "outputs": [],
   "source": [
    "h_range = np.linspace(0,2,20)\n",
    "\n",
    "Exact_E_range_1 = get_E_range('Exact_E_range.txt', 1)\n",
    "Exact_E_range_2 = get_E_range('Exact_E_range.txt', 2)\n",
    "Exact_E_range_3 = get_E_range('Exact_E_range.txt', 3)\n"
   ]
  },
  {
   "cell_type": "code",
   "execution_count": 102,
   "metadata": {},
   "outputs": [
    {
     "name": "stderr",
     "output_type": "stream",
     "text": [
      "/Users/macbookpro/opt/anaconda3/lib/python3.8/site-packages/numpy/core/_asarray.py:83: ComplexWarning: Casting complex values to real discards the imaginary part\n",
      "  return array(a, dtype, copy=False, order=order)\n"
     ]
    },
    {
     "data": {
      "text/plain": [
       "Text(0, 0.5, 'E/N')"
      ]
     },
     "execution_count": 102,
     "metadata": {},
     "output_type": "execute_result"
    },
    {
     "data": {
      "image/png": "[encoded data removed]",
      "text/plain": [
       "<Figure size 432x288 with 1 Axes>"
      ]
     },
     "metadata": {
      "needs_background": "light"
     },
     "output_type": "display_data"
    }
   ],
   "source": [
    "plt.plot(h_range, Exact_E_range_1)\n",
    "plt.title('N = 1')\n",
    "plt.xlabel('h')\n",
    "plt.ylabel('E/N')"
   ]
  },
  {
   "cell_type": "code",
   "execution_count": 81,
   "metadata": {},
   "outputs": [
    {
     "name": "stderr",
     "output_type": "stream",
     "text": [
      "/Users/macbookpro/opt/anaconda3/lib/python3.8/site-packages/numpy/core/_asarray.py:83: ComplexWarning: Casting complex values to real discards the imaginary part\n",
      "  return array(a, dtype, copy=False, order=order)\n"
     ]
    },
    {
     "data": {
      "text/plain": [
       "Text(0, 0.5, 'E/N')"
      ]
     },
     "execution_count": 81,
     "metadata": {},
     "output_type": "execute_result"
    },
    {
     "data": {
      "image/png": "[encoded data removed]",
      "text/plain": [
       "<Figure size 432x288 with 1 Axes>"
      ]
     },
     "metadata": {
      "needs_background": "light"
     },
     "output_type": "display_data"
    }
   ],
   "source": [
    "plt.plot(h_range, Exact_E_range_1)\n",
    "plt.title('N = 2')\n",
    "plt.xlabel('h')\n",
    "plt.ylabel('E/N')"
   ]
  },
  {
   "cell_type": "code",
   "execution_count": 83,
   "metadata": {},
   "outputs": [],
   "source": [
    "def sorted_bit_str_list(n):\n",
    "    bit_str_lst = []\n",
    "    \n",
    "    for i in range( 2**n ):\n",
    "        bit_str = ''\n",
    "        rev_bit_str = ''\n",
    "        temp = i\n",
    "        \n",
    "        for j in range(n):\n",
    "            rev_bit_str += str(temp % 2)\n",
    "            temp = temp // 2\n",
    "            \n",
    "        for char in rev_bit_str:\n",
    "            bit_str = char + bit_str\n",
    "        \n",
    "        bit_str_lst.append(bit_str)\n",
    "    return bit_str_lst\n",
    "\n",
    "def bit_str_to_dec(bit_str):\n",
    "    dec = 0\n",
    "    for i in range(len(bit_str)-1, -1,-1):\n",
    "        bit = int(bit_str[i])\n",
    "        dec += bit * ( 2 ** (len(bit_str) - 1 - i) )\n",
    "        \n",
    "    return dec\n",
    "\n",
    "def final_coefficient(bit_str, theta_list):\n",
    "    coeff = 1\n",
    "    for i in range(len(bit_str)-1, -1, -1):\n",
    "        code = '1' + bit_str[:i]\n",
    "        num = bit_str_to_dec(code) - 1\n",
    "        \n",
    "        if bit_str[i] == '0':\n",
    "            coeff *= np.cos(theta_list[num]/2)\n",
    "        else:\n",
    "            coeff *= np.sin(theta_list[num]/2)\n",
    "    return coeff"
   ]
  },
  {
   "cell_type": "code",
   "execution_count": 85,
   "metadata": {},
   "outputs": [
    {
     "name": "stdout",
     "output_type": "stream",
     "text": [
      "[0.5        0.28867513 0.28867513 0.28867513 0.28867513 0.28867513\n",
      " 0.28867513 0.5       ]\n"
     ]
    }
   ],
   "source": [
    "num_qubits = 3\n",
    "theta_list1 = [1.5707963267948966,\n",
    " 1.5707963267948966,\n",
    " 1.5707963267948966,\n",
    " 1.5707963267948966,\n",
    " 1.5707963267948966,\n",
    " 1.5707963267948966,\n",
    " 1.5707963267948966]\n",
    "theta_list2 = [1.5707963267948966,\n",
    " 1.2309594060858275,\n",
    " 1.9106332475039658,\n",
    " 1.047197537412159,\n",
    " 1.5707963267948966,\n",
    " 1.5707963267948966,\n",
    " 2.094395116177634]\n",
    "\n",
    "lst = sorted_bit_str_list(num_qubits)\n",
    "prob_list = []\n",
    "count = dict()\n",
    "for element in lst:\n",
    "    count[element] = final_coefficient(element, theta_list2)\n",
    "    \n",
    "\n",
    "x = np.array(list(count.values()))\n",
    "\n",
    "print(x)"
   ]
  },
  {
   "cell_type": "code",
   "execution_count": 186,
   "metadata": {},
   "outputs": [],
   "source": [
    "def complex\n",
    "def get_theta_list(state):\n",
    "    theta_list = []\n",
    "    \n",
    "    while len(state)>1:\n",
    "        \n",
    "        add_theta = []\n",
    "        for j in range(int(len(state)/2)):\n",
    "            if state[2 * j + 1] == 0:\n",
    "                add_theta.append(np.pi)\n",
    "            else:\n",
    "                add_theta.append(2 * np.arctan(state[2*j+1]/state[2*j]))\n",
    "        \n",
    "        theta_list = add_theta + theta_list\n",
    "        \n",
    "        new_state = []\n",
    "        for j in range(int(len(state)/2)):\n",
    "            new_state.append(np.sqrt(state[2*j]**2 + state[2*j+1]**2))\n",
    "    \n",
    "        state = new_state\n",
    "    \n",
    "    return theta_list\n",
    "        "
   ]
  },
  {
   "cell_type": "code",
   "execution_count": 185,
   "metadata": {},
   "outputs": [
    {
     "data": {
      "text/plain": [
       "[1.5707963267948966,\n",
       " 1.2309594060858275,\n",
       " 1.9106332475039658,\n",
       " 1.047197537412159,\n",
       " 1.5707963267948966,\n",
       " 1.5707963267948966,\n",
       " 2.094395116177634]"
      ]
     },
     "execution_count": 185,
     "metadata": {},
     "output_type": "execute_result"
    }
   ],
   "source": [
    "A = [-0.5, -0.28867513, -0.28867513, -0.28867513, -0.28867513, -0.28867513, -0.28867513, -0.5]\n",
    "get_theta_list(A)"
   ]
  },
  {
   "cell_type": "code",
   "execution_count": null,
   "metadata": {},
   "outputs": [],
   "source": []
  }
 ],
 "metadata": {
  "kernelspec": {
   "display_name": "Python 3",
   "language": "python",
   "name": "python3"
  },
  "language_info": {
   "codemirror_mode": {
    "name": "ipython",
    "version": 3
   },
   "file_extension": ".py",
   "mimetype": "text/x-python",
   "name": "python",
   "nbconvert_exporter": "python",
   "pygments_lexer": "ipython3",
   "version": "3.8.5"
  }
 },
 "nbformat": 4,
 "nbformat_minor": 4
}
