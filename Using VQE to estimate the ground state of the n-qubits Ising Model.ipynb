{
 "cells": [
  {
   "cell_type": "code",
   "execution_count": 60,
   "metadata": {},
   "outputs": [],
   "source": [
    "from qiskit import ClassicalRegister, QuantumRegister, QuantumCircuit\n",
    "import numpy as np\n",
    "from qiskit import Aer, transpile, assemble\n",
    "from qiskit.visualization import plot_histogram as plt_hist\n",
    "from scipy.optimize import minimize\n",
    "from matplotlib import pyplot as plt"
   ]
  },
  {
   "cell_type": "markdown",
   "metadata": {},
   "source": [
    "# **GENERAL ANSATZ** \n",
    "## **Objectives:** \n",
    "1. Generate an advanced multi-control U gate\n",
    "2. Generate the non-parametrized general ansatz"
   ]
  },
  {
   "cell_type": "code",
   "execution_count": 1,
   "metadata": {},
   "outputs": [],
   "source": [
    "#multi-controlled u3\n",
    "#Parameters: param (list); num_control_qubits (int)\n",
    "#Return: The multi-controlled u3 Gate object\n",
    "def mtcu(param, num_control_qubits):\n",
    "    \n",
    "    Qbit = QuantumRegister(1)\n",
    "    qc = QuantumCircuit(Qbit)\n",
    "    qc.u3(param[0], param[1], param[2], Qbit[0])\n",
    "    \n",
    "    gate_label = 'U3({para1:.2f}, {para2:.2f}, {para3:.2f})'.format(para1 = param[0], para2 = param[1], \n",
    "                                                                       para3 = param[2])\n",
    "    u3 = qc.to_gate(label = gate_label)\n",
    "    \n",
    "    #control part\n",
    "    cu3 = u3.control(num_control_qubits)\n",
    "    \n",
    "    return cu3"
   ]
  },
  {
   "cell_type": "code",
   "execution_count": 19,
   "metadata": {},
   "outputs": [],
   "source": [
    "#Append multi-controlled u3 advance to the circuit depends on the bit-string label of the gate\n",
    "#Parameters: \n",
    "    #param(2D list, size (num_qubits * 3))\n",
    "    #num_ctrlqubits (int)\n",
    "    #circuit (Circuit Object)\n",
    "    #ctrlqubits (list)\n",
    "    #targetqubit (list)\n",
    "    #bit_str (string)\n",
    "\n",
    "def mtcu_advance(param, num_ctrlqubits, circuit, ctrlqubits, targetqubits, bit_str):\n",
    "    cu3 = mtcu(param, num_ctrlqubits)\n",
    "    \n",
    "    for i in range(len(bit_str)):\n",
    "        if bit_str[i] == '0':\n",
    "            circuit.x(ctrlqubits[i])\n",
    "    \n",
    "    circuit.append(cu3, ctrlqubits + targetqubits)\n",
    "    \n",
    "    for i in range(len(bit_str)):\n",
    "        if bit_str[i] == '0':\n",
    "            circuit.x(ctrlqubits[i])"
   ]
  },
  {
   "cell_type": "code",
   "execution_count": 20,
   "metadata": {},
   "outputs": [],
   "source": [
    "#generate list of bit_string that can be formed by n qubits (the ordered is not sorted by least to greatest)\n",
    "#parameters: n (int)\n",
    "#return: the list of bit strings\n",
    "def bit_str_list(n):\n",
    "    bit_str_lst = []\n",
    "    \n",
    "    for i in range( 2**n ):\n",
    "        bit_str = ''\n",
    "        rev_bit_str = ''\n",
    "        temp = i\n",
    "        \n",
    "        for j in range(n):\n",
    "            rev_bit_str += str(temp % 2)\n",
    "            temp = temp // 2\n",
    "            \n",
    "        for char in rev_bit_str:\n",
    "            bit_str = char + bit_str\n",
    "        \n",
    "        bit_str_lst.append(rev_bit_str)\n",
    "    return bit_str_lst\n",
    "\n",
    "#convert bit_str form to decimal form\n",
    "#parameters: bit_str (string)\n",
    "#return: the decimal form of bit_str (int)\n",
    "def bit_str_to_dec(bit_str):\n",
    "    dec = 0\n",
    "    for i in range(len(bit_str)-1, -1,-1):\n",
    "        bit = int(bit_str[i])\n",
    "        dec += bit * ( 2 ** (len(bit_str) - 1 - i) )\n",
    "    return dec"
   ]
  },
  {
   "cell_type": "code",
   "execution_count": 10,
   "metadata": {},
   "outputs": [
    {
     "data": {
      "text/plain": [
       "['00', '10', '01', '11']"
      ]
     },
     "execution_count": 10,
     "metadata": {},
     "output_type": "execute_result"
    }
   ],
   "source": [
    "bit_str_list(2)"
   ]
  },
  {
   "cell_type": "code",
   "execution_count": 11,
   "metadata": {},
   "outputs": [
    {
     "data": {
      "text/plain": [
       "11"
      ]
     },
     "execution_count": 11,
     "metadata": {},
     "output_type": "execute_result"
    }
   ],
   "source": [
    "bit_str_to_dec('001011')"
   ]
  },
  {
   "cell_type": "code",
   "execution_count": 15,
   "metadata": {},
   "outputs": [],
   "source": [
    "#generate general non-parametrized ansatz for the circuit\n",
    "#parameters:\n",
    "    #param (2D list, size num_qubits * 3)\n",
    "    #qbits (QuantumRegister object)\n",
    "    #cbits (ClassicalRegister object)\n",
    "#return: the ansatz (Circuit object)\n",
    "def general_ansatz(param, qbits, cbits):\n",
    "    num_qubits = len(qbits)\n",
    "    qc = QuantumCircuit(qbits, cbits)\n",
    "    \n",
    "    #append U3_0 (without control) on the first qubit \n",
    "    qc.u3(param[0][0], param[0][1], param[0][2], qbits[len(qbits) - 1 ])\n",
    "    \n",
    "    #setup Controlled-U3 \n",
    "    for i in range(1, num_qubits):\n",
    "        num_ctrlqubits = i\n",
    "        #list of ctrlqubits' indexes\n",
    "        ctrlqubits = [i for i in range(num_qubits - num_ctrlqubits, num_qubits)]\n",
    "        #list of targetqubits' indexes\n",
    "        targetqubits = [num_qubits -1 -num_ctrlqubits]\n",
    "        #generate bit_string list from the number of controlqubits\n",
    "        bit_str_lst = bit_str_list(num_ctrlqubits)\n",
    "        #generate sorted bit_string list from the number of controlqubits\n",
    "        bit_str_lst_sorted = sorted(bit_str_lst)\n",
    "        \n",
    "        for j in range(len(bit_str_lst)):\n",
    "            \n",
    "            bit_str = bit_str_lst[j]\n",
    "            gate_idx = bit_str_to_dec('1'+ bit_str_lst_sorted[j]) - 1\n",
    "            mtcu_advance(param[gate_idx], num_ctrlqubits, qc, ctrlqubits, targetqubits, bit_str)\n",
    "            \n",
    "    return qc"
   ]
  },
  {
   "cell_type": "code",
   "execution_count": 22,
   "metadata": {},
   "outputs": [
    {
     "data": {
      "image/png": "[encoded data removed]",
      "text/plain": [
       "<Figure size 822.123x204.68 with 1 Axes>"
      ]
     },
     "execution_count": 22,
     "metadata": {},
     "output_type": "execute_result"
    }
   ],
   "source": [
    "num_qubits = 2\n",
    "\n",
    "qbits = QuantumRegister(num_qubits)\n",
    "cbits = ClassicalRegister(num_qubits)\n",
    "\n",
    "np.random.seed = (99999999)\n",
    "param = np.random.rand(3 * ( 2 ** num_qubits - 1))\n",
    "\n",
    "param_i = list(np.random.rand(3))\n",
    "param = []\n",
    "for i in range(2 ** num_qubits - 1):\n",
    "    param.append(list(np.random.rand(3)))\n",
    "\n",
    "\n",
    "qc = general_ansatz(param, qbits, cbits )\n",
    "qc.draw('mpl')"
   ]
  },
  {
   "cell_type": "markdown",
   "metadata": {},
   "source": [
    "# **Measurement for Ising Model**\n",
    "## **Objectives**\n",
    "1. Generate measurement circuits to measure the expectation value of the Hamiltonian\n",
    "2. Use the newly formed circuits to test general ansatz\n",
    "3. Compute the expectation of Ising Model's Hamiltonian, in terms of the param"
   ]
  },
  {
   "cell_type": "code",
   "execution_count": 24,
   "metadata": {},
   "outputs": [],
   "source": [
    "#generate measurement circuits to measure term E_Z\n",
    "#parameters: \n",
    "    #theta_list (list of real theta parameters- 1st parameter of each multicontrolled U3)\n",
    "    # num_qubits (int)\n",
    "#return: the circuit object represents the measurement circuit\n",
    "def zz_measurecircuit(theta_list, num_qubits):\n",
    "    \n",
    "    #generate param matrix from theta_list\n",
    "    param = [3 * [0] for _ in range(( 2 ** num_qubits - 1))]\n",
    "    for i in range(len(param)):\n",
    "        param[i][0] = theta_list[i]\n",
    "       \n",
    "    #generate measure circuit\n",
    "    qbits = QuantumRegister(num_qubits)\n",
    "    cbits = ClassicalRegister(num_qubits)\n",
    "    \n",
    "    qc = general_ansatz(param, qbits, cbits)\n",
    "    qc.measure(qbits[:], cbits[:])\n",
    "    \n",
    "    return qc\n",
    "\n",
    "#generate measurement circuits to measure term E_X\n",
    "#parameters: \n",
    "    #theta_list (list of real theta parameters- 1st parameter of each multicontrolled U3)\n",
    "    # num_qubits (int)\n",
    "#return: the circuit object represents the measurement circuit\n",
    "def x_measurecircuit(theta_list, num_qubits):\n",
    "    #generate param matrix from theta_list\n",
    "    param = [3 * [0] for _ in range(( 2 ** num_qubits - 1))]\n",
    "    for i in range(len(param)):\n",
    "        param[i][0] = theta_list[i]\n",
    "       \n",
    "    #generate measure circuit\n",
    "    qbits = QuantumRegister(num_qubits)\n",
    "    cbits = ClassicalRegister(num_qubits)\n",
    "    \n",
    "    \n",
    "    qc = general_ansatz(param, qbits, cbits)\n",
    "    qc.h(qbits[:])\n",
    "    qc.measure(qbits[:], cbits[:])\n",
    "    \n",
    "    return qc"
   ]
  },
  {
   "cell_type": "code",
   "execution_count": 29,
   "metadata": {},
   "outputs": [
    {
     "data": {
      "image/png": "[encoded data removed]",
      "text/plain": [
       "<Figure size 1617.85x565.88 with 1 Axes>"
      ]
     },
     "execution_count": 29,
     "metadata": {},
     "output_type": "execute_result"
    }
   ],
   "source": [
    "num_qubits = 3\n",
    "theta_list = np.random.rand(2** num_qubits - 1)\n",
    "\n",
    "zz_measurecircuit(theta_list, num_qubits).draw('mpl')"
   ]
  },
  {
   "cell_type": "code",
   "execution_count": 30,
   "metadata": {},
   "outputs": [
    {
     "data": {
      "image/png": "[encoded data removed]",
      "text/plain": [
       "<Figure size 1618.14x565.88 with 1 Axes>"
      ]
     },
     "execution_count": 30,
     "metadata": {},
     "output_type": "execute_result"
    }
   ],
   "source": [
    "x_measurecircuit(theta_list, num_qubits).draw('mpl')"
   ]
  },
  {
   "cell_type": "code",
   "execution_count": 43,
   "metadata": {},
   "outputs": [
    {
     "name": "stdout",
     "output_type": "stream",
     "text": [
      "[0.23655451 0.18020527 0.04948113 0.61220526 0.20882516 0.42423243\n",
      " 0.38987223]\n",
      "{'011': 1, '001': 876, '100': 123, '101': 9, '010': 75, '000': 8916}\n",
      "{'101': 500, '111': 272, '011': 565, '100': 1745, '001': 833, '110': 1272, '000': 2780, '010': 2033}\n"
     ]
    }
   ],
   "source": [
    "num_qubits = 3\n",
    "theta_list = np.random.rand(2**num_qubits - 1)\n",
    "#theta_list = [i for i in range(1, 2**num_qubits )]\n",
    "\n",
    "print(theta_list)\n",
    "#get backend\n",
    "backend = Aer.get_backend('qasm_simulator')\n",
    "numshots = 10000\n",
    "\n",
    "#measure term ZZ\n",
    "zz_qc = zz_measurecircuit(theta_list, num_qubits)\n",
    "zz_qc_transpile = transpile(zz_qc, backend = backend)\n",
    "zz_job = assemble(zz_qc_transpile, backend = backend, shots = numshots)\n",
    "zz_result = backend.run(zz_job).result()\n",
    "zz_counts = zz_result.get_counts()\n",
    "print(zz_counts)\n",
    "\n",
    "#measure term X\n",
    "x_qc = x_measurecircuit(theta_list, num_qubits)\n",
    "x_qc_transpile = transpile(x_qc, backend = backend)\n",
    "x_job = assemble(x_qc_transpile, backend = backend, shots = numshots)\n",
    "x_result = backend.run(x_job).result()\n",
    "x_counts = x_result.get_counts()\n",
    "print(x_counts)"
   ]
  },
  {
   "cell_type": "code",
   "execution_count": 44,
   "metadata": {},
   "outputs": [],
   "source": [
    "#circuit test, using zz_measurecircuit\n",
    "def bit_str_to_dec(bit_str):\n",
    "    dec = 0\n",
    "    for i in range(len(bit_str)-1, -1,-1):\n",
    "        bit = int(bit_str[i])\n",
    "        dec += bit * ( 2 ** (len(bit_str) - 1 - i) )\n",
    "        \n",
    "    return dec\n",
    "\n",
    "def final_coefficient(bit_str, theta_list):\n",
    "    coeff = 1\n",
    "    for i in range(len(bit_str)-1, -1, -1):\n",
    "        code = '1' + bit_str[:i]\n",
    "        num = bit_str_to_dec(code) - 1\n",
    "        #print(num)\n",
    "        if bit_str[i] == '0':\n",
    "            coeff *= np.cos(theta_list[num]/2)\n",
    "        else:\n",
    "            coeff *= np.sin(theta_list[num]/2)\n",
    "    return coeff"
   ]
  },
  {
   "cell_type": "code",
   "execution_count": 47,
   "metadata": {},
   "outputs": [
    {
     "data": {
      "image/png": "[encoded data removed]",
      "text/plain": [
       "<Figure size 504x360 with 1 Axes>"
      ]
     },
     "execution_count": 47,
     "metadata": {},
     "output_type": "execute_result"
    }
   ],
   "source": [
    "lst = bit_str_list(num_qubits)\n",
    "lst.sort()\n",
    "\n",
    "prob_list = []\n",
    "count = dict()\n",
    "for element in lst:\n",
    "    count[element] = final_coefficient(element, theta_list)**2\n",
    "plt_hist(count, title = 'Measurement Results from Theory')"
   ]
  },
  {
   "cell_type": "code",
   "execution_count": 48,
   "metadata": {},
   "outputs": [
    {
     "data": {
      "image/png": "[encoded data removed]",
      "text/plain": [
       "<Figure size 504x360 with 1 Axes>"
      ]
     },
     "execution_count": 48,
     "metadata": {},
     "output_type": "execute_result"
    }
   ],
   "source": [
    "plt_hist(zz_counts, title = 'Measurement Results from Simulator')"
   ]
  },
  {
   "cell_type": "code",
   "execution_count": 50,
   "metadata": {},
   "outputs": [],
   "source": [
    "#compute the expectation value of term E_zz from the result\n",
    "#parameter:\n",
    "    #num_qubits (int)\n",
    "    #h (float)\n",
    "    #zz_counts (dictionary)\n",
    "def zz_measure(num_qubits, zz_counts): \n",
    "    zz_exp = 0\n",
    "    for i in range(num_qubits):\n",
    "        zz_exp_i = 0\n",
    "        if i == num_qubits -1:\n",
    "            for key in zz_counts:\n",
    "                if key[0] == key[-1]:\n",
    "                    sign = +1\n",
    "                else:\n",
    "                    sign = -1\n",
    "                zz_exp_i += sign * (zz_counts[key] / numshots)\n",
    "            \n",
    "        else:\n",
    "            for key in zz_counts:\n",
    "                if key[i] == key[i+1]:\n",
    "                    sign = +1\n",
    "                else:\n",
    "                    sign = -1\n",
    "                zz_exp_i += sign * (zz_counts[key] / numshots)\n",
    "        zz_exp += zz_exp_i\n",
    "        \n",
    "    return - zz_exp\n",
    "\n",
    "#print((zz_measure(num_qubits ,zz_counts))) "
   ]
  },
  {
   "cell_type": "code",
   "execution_count": 51,
   "metadata": {},
   "outputs": [],
   "source": [
    "#compute the expectation value of term E_x from the result\n",
    "#parameter:\n",
    "    #num_qubits (int)\n",
    "    #h (float)\n",
    "    #x_counts (dictionary)\n",
    "def x_measure(num_qubits, h, x_counts):\n",
    "    x_exp = 0\n",
    "    for i in range(num_qubits):\n",
    "        x_exp_i = 0\n",
    "        for key in x_counts:\n",
    "        \n",
    "            if key[i] == '0':\n",
    "                sign = +1\n",
    "            else:\n",
    "                sign = -1\n",
    "            \n",
    "            x_exp_i += sign * x_counts[key]/ numshots\n",
    "            \n",
    "        x_exp += x_exp_i\n",
    "    \n",
    "    return - h * x_exp\n",
    "\n",
    "#print(x_measure(num_qubits, 1, x_counts))"
   ]
  },
  {
   "cell_type": "code",
   "execution_count": 52,
   "metadata": {},
   "outputs": [],
   "source": [
    "#compute the expectation value of Ising model's Hamiltonian from the result\n",
    "#parameter:\n",
    "    #num_qubits (int)\n",
    "    #h (float)\n",
    "    #zz_counts (dictionary)\n",
    "    #x_counts (dictionary)\n",
    "def hamiltonian_measure(num_qubits, h, zz_counts, x_counts):\n",
    "    return zz_measure(num_qubits, zz_counts) + x_measure(num_qubits, h, x_counts)"
   ]
  },
  {
   "cell_type": "code",
   "execution_count": 53,
   "metadata": {},
   "outputs": [
    {
     "data": {
      "text/plain": [
       "-4.526"
      ]
     },
     "execution_count": 53,
     "metadata": {},
     "output_type": "execute_result"
    }
   ],
   "source": [
    "hamiltonian_measure(num_qubits, 2, zz_counts, x_counts)"
   ]
  },
  {
   "cell_type": "markdown",
   "metadata": {},
   "source": [
    "# **Optimization**\n",
    "## **Objectives**\n",
    "1. Define objective function for the optimzation\n",
    "2. Finding the minimum value (or the system ground state) using Python's scipy.optimize.minimize"
   ]
  },
  {
   "cell_type": "code",
   "execution_count": 55,
   "metadata": {},
   "outputs": [],
   "source": [
    "#objective_function/ Cost function of this Problem, which is the expectation value of Ising Model's hamiltonian\n",
    "#parameters:\n",
    "    #theta_list (list of real theta parameters- 1st parameter of each multicontrolled U3)\n",
    "    #num_qubits (int)\n",
    "    #h (float)\n",
    "#return: the value of the function (float)\n",
    "def objective_function(theta_list, num_qubits, h ):\n",
    "\n",
    "    #get backend\n",
    "    backend = Aer.get_backend('qasm_simulator')\n",
    "    numshots = 10000\n",
    "\n",
    "    #measure term ZZ\n",
    "    zz_qc = zz_measurecircuit(theta_list, num_qubits)\n",
    "    zz_qc_transpile = transpile(zz_qc, backend = backend)\n",
    "    zz_job = assemble(zz_qc_transpile, backend = backend, shots = numshots)\n",
    "    zz_result = backend.run(zz_job).result()\n",
    "    zz_counts = zz_result.get_counts()\n",
    "    \n",
    "    #measure term X\n",
    "    x_qc = x_measurecircuit(theta_list, num_qubits)\n",
    "    x_qc_transpile = transpile(x_qc, backend = backend)\n",
    "    x_job = assemble(x_qc_transpile, backend = backend, shots = numshots)\n",
    "    x_result = backend.run(x_job).result()\n",
    "    x_counts = x_result.get_counts()\n",
    "    \n",
    "    #measure expectation value of hamiltonian\n",
    "    h_exp = hamiltonian_measure(num_qubits, h, zz_counts, x_counts)\n",
    "    \n",
    "    return h_exp\n"
   ]
  },
  {
   "cell_type": "code",
   "execution_count": 56,
   "metadata": {},
   "outputs": [
    {
     "data": {
      "text/plain": [
       "-2.9876"
      ]
     },
     "execution_count": 56,
     "metadata": {},
     "output_type": "execute_result"
    }
   ],
   "source": [
    "objective_function([0] * 7, 3, 2)"
   ]
  },
  {
   "cell_type": "code",
   "execution_count": 59,
   "metadata": {},
   "outputs": [
    {
     "name": "stdout",
     "output_type": "stream",
     "text": [
      "     fun: -4.3968\n",
      "   maxcv: 0.0\n",
      " message: 'Optimization terminated successfully.'\n",
      "    nfev: 37\n",
      "  status: 1\n",
      " success: True\n",
      "       x: array([1.55836453, 0.90967186, 1.78640875])\n",
      "CPU times: user 2.16 s, sys: 23 ms, total: 2.18 s\n",
      "Wall time: 2.19 s\n"
     ]
    }
   ],
   "source": [
    "%%time\n",
    "num_qubits = 2\n",
    "sol1 = minimize(fun = objective_function, args = (num_qubits,2) ,x0 = (2**num_qubits - 1) * [0]  ,method = 'COBYLA')\n",
    "print(sol1)"
   ]
  },
  {
   "cell_type": "code",
   "execution_count": 56,
   "metadata": {},
   "outputs": [],
   "source": [
    "Exact_E_range=[-1.0,\n",
    " -1.0029172392991268,\n",
    " -1.012257949926227,\n",
    " -1.0288632926758146,\n",
    " -1.0534284786616952,\n",
    " -1.0863886888826075,\n",
    " -1.1278356834067804,\n",
    " -1.177499021376562,\n",
    " -1.2348002109808474,\n",
    " -1.2989564623667418,\n",
    " -1.369095484068181,\n",
    " -1.4443501164832224,\n",
    " -1.5239197262968904,\n",
    " -1.6071003647530555,\n",
    " -1.6932925195185922,\n",
    " -1.7819957493399936,\n",
    " -1.872797183492377,\n",
    " -1.9653582149735949,\n",
    " -2.059401681437348,\n",
    " -2.1547005383792515]"
   ]
  },
  {
   "cell_type": "code",
   "execution_count": 243,
   "metadata": {},
   "outputs": [],
   "source": [
    "A = [-1.0, -1.002161403508772, -1.0011859649122807, -1.0089964912280702, -1.0415789473684212, -1.0656070175438597, -1.0891859649122806, -1.121578947368421, -1.1538315789473683, -1.1927298245614033, -1.2233473684210525, -1.3054456140350876, -1.4325684210526317, -1.501978947368421, -1.6520070175438597, -1.7649754385964913, -1.7216701754385964, -1.8950877192982458, -2.036870175438596, -2.1306666666666665]"
   ]
  },
  {
   "cell_type": "code",
   "execution_count": 244,
   "metadata": {},
   "outputs": [],
   "source": [
    "B = [-1.0, -1.001817543859649, -1.0059719298245613, -1.0216491228070175, -1.034617543859649, -1.0619228070175437, -1.0978245614035087, -1.1151298245614034, -1.1488210526315787, -1.2099719298245613, -1.2788210526315789, -1.3227438596491228, -1.4303719298245614, -1.4467859649122807, -1.6676701754385963, -1.712, -1.8175999999999999, -1.79940350877193, -2.013466666666666, -2.0557333333333334]"
   ]
  },
  {
   "cell_type": "code",
   "execution_count": 249,
   "metadata": {},
   "outputs": [],
   "source": [
    "C = [-1.0, -1.0039368421052632, -1.0070385964912283, -1.0189684210526317, -1.0392210526315788, -1.0716912280701754, -1.0961122807017543, -1.1092701754385965, -1.149957894736842, -1.1882245614035087, -1.231340350877193, -1.3120771929824564, -1.3644280701754388, -1.5098105263157893, -1.6313894736842105, -1.7283508771929827, -1.829157894736842, -1.8780912280701754, -1.8928070175438594, -2.0951999999999997]"
   ]
  },
  {
   "cell_type": "code",
   "execution_count": null,
   "metadata": {},
   "outputs": [],
   "source": [
    "minimize(fun = objective_function, args = (3,0) ,x0 = 7*[0] ,method = 'COBYLA').fun"
   ]
  },
  {
   "cell_type": "code",
   "execution_count": 35,
   "metadata": {},
   "outputs": [],
   "source": [
    "plt.plot?"
   ]
  },
  {
   "cell_type": "code",
   "execution_count": 31,
   "metadata": {},
   "outputs": [
    {
     "ename": "NameError",
     "evalue": "name 'plt' is not defined",
     "output_type": "error",
     "traceback": [
      "\u001b[0;31m---------------------------------------------------------------------------\u001b[0m",
      "\u001b[0;31mNameError\u001b[0m                                 Traceback (most recent call last)",
      "\u001b[0;32m<ipython-input-31-754173694279>\u001b[0m in \u001b[0;36m<module>\u001b[0;34m\u001b[0m\n\u001b[0;32m----> 1\u001b[0;31m \u001b[0mplt\u001b[0m\u001b[0;34m.\u001b[0m\u001b[0mplot\u001b[0m\u001b[0;34m(\u001b[0m\u001b[0mh_range\u001b[0m\u001b[0;34m,\u001b[0m \u001b[0mExact_E_range\u001b[0m\u001b[0;34m,\u001b[0m \u001b[0;34m'o'\u001b[0m\u001b[0;34m,\u001b[0m \u001b[0mlabel\u001b[0m \u001b[0;34m=\u001b[0m \u001b[0;34m'Exact'\u001b[0m\u001b[0;34m)\u001b[0m\u001b[0;34m\u001b[0m\u001b[0;34m\u001b[0m\u001b[0m\n\u001b[0m\u001b[1;32m      2\u001b[0m \u001b[0mplt\u001b[0m\u001b[0;34m.\u001b[0m\u001b[0mplot\u001b[0m\u001b[0;34m(\u001b[0m\u001b[0mh_range\u001b[0m\u001b[0;34m,\u001b[0m \u001b[0mA\u001b[0m \u001b[0;34m,\u001b[0m \u001b[0;34m'o'\u001b[0m\u001b[0;34m,\u001b[0m \u001b[0mlabel\u001b[0m \u001b[0;34m=\u001b[0m \u001b[0;34m'VQE'\u001b[0m\u001b[0;34m)\u001b[0m\u001b[0;34m\u001b[0m\u001b[0;34m\u001b[0m\u001b[0m\n\u001b[1;32m      3\u001b[0m \u001b[0;34m\u001b[0m\u001b[0m\n\u001b[1;32m      4\u001b[0m \u001b[0mplt\u001b[0m\u001b[0;34m.\u001b[0m\u001b[0mlegend\u001b[0m\u001b[0;34m(\u001b[0m\u001b[0;34m)\u001b[0m\u001b[0;34m\u001b[0m\u001b[0;34m\u001b[0m\u001b[0m\n\u001b[1;32m      5\u001b[0m \u001b[0;34m\u001b[0m\u001b[0m\n",
      "\u001b[0;31mNameError\u001b[0m: name 'plt' is not defined"
     ]
    }
   ],
   "source": [
    "plt.plot(h_range, Exact_E_range, 'o', label = 'Exact')\n",
    "plt.plot(h_range, A , 'o', label = 'VQE')\n",
    "\n",
    "plt.legend()\n",
    "\n",
    "\n",
    "\n",
    "plt.show()"
   ]
  },
  {
   "cell_type": "code",
   "execution_count": 21,
   "metadata": {},
   "outputs": [
    {
     "name": "stdout",
     "output_type": "stream",
     "text": [
      "[-1.0, -1.0000473684210527, -1.0071894736842106, -1.0175736842105263, -1.027, -1.0362578947368422, -1.0579947368421052, -1.1005052631578947, -1.1471, -1.1591263157894736, -1.2177894736842105, -1.2554578947368422, -1.3198894736842106, -1.4565473684210524, -1.5427, -1.662863157894737, -1.7827157894736843, -1.839594736842105, -1.9262473684210526, -2.0725000000000002]\n",
      "CPU times: user 27min 38s, sys: 8.99 s, total: 27min 47s\n",
      "Wall time: 27min 49s\n"
     ]
    }
   ],
   "source": [
    "%%time\n",
    "num_qubits = 4\n",
    "vqe_E_range = []\n",
    "h_range = np.linspace(0, 2, 20)\n",
    "x0 = [0] * (2**num_qubits - 1)\n",
    "for h in h_range:\n",
    "    sol = minimize(fun = objective_function, args = (num_qubits,h) ,x0 = x0 ,method = 'COBYLA')\n",
    "    E_value = sol.fun\n",
    "    vqe_E_range.append(E_value)\n",
    "    x0 = sol.x\n",
    "\n",
    "vqe_E_range = list(map(lambda x: x/num_qubits, vqe_E_range))\n",
    "print(vqe_E_range)\n",
    "\n",
    "\n"
   ]
  },
  {
   "cell_type": "code",
   "execution_count": 55,
   "metadata": {},
   "outputs": [
    {
     "data": {
      "text/plain": [
       "[-1.0,\n",
       " -1.0007228070175438,\n",
       " -1.006778947368421,\n",
       " -1.0182245614035088,\n",
       " -1.0296982456140351,\n",
       " -1.0275438596491229,\n",
       " -1.0737684210526315,\n",
       " -1.1016,\n",
       " -1.1184280701754385,\n",
       " -1.151459649122807,\n",
       " -1.1753122807017544,\n",
       " -1.2103298245614036,\n",
       " -1.2595157894736841,\n",
       " -1.4257263157894735,\n",
       " -1.638680701743858,\n",
       " -1.7553894736842104,\n",
       " -1.8737684210526313,\n",
       " -1.9405824561403506,\n",
       " -2.032659649122807,\n",
       " -2.1436]"
      ]
     },
     "execution_count": 55,
     "metadata": {},
     "output_type": "execute_result"
    }
   ],
   "source": [
    "E = [-1.0,\n",
    " -1.0007228070175438,\n",
    " -1.006778947368421,\n",
    " -1.0182245614035088,\n",
    " -1.0296982456140351,\n",
    " -1.0275438596491229,\n",
    " -1.0737684210526315,\n",
    " -1.1016,\n",
    " -1.1184280701754385,\n",
    " -1.151459649122807,\n",
    " -1.1753122807017544,\n",
    " -1.2103298245614036,\n",
    " -1.2595157894736841,\n",
    " -1.4257263157894735,\n",
    " -1.638680701743858,\n",
    " -1.7553894736842104,\n",
    " -1.8737684210526313,\n",
    " -1.9405824561403506,\n",
    " -2.032659649122807,\n",
    " -2.1436]"
   ]
  },
  {
   "cell_type": "code",
   "execution_count": 254,
   "metadata": {},
   "outputs": [],
   "source": [
    "Exact_E_range_2=[-1.0,\n",
    " -1.005524903923305,\n",
    " -1.0219204125761896,\n",
    " -1.0486767813248041,\n",
    " -1.085027796215174,\n",
    " -1.1300479238728363,\n",
    " -1.182747634433907,\n",
    " -1.2421498653901,\n",
    " -1.3073412998288654,\n",
    " -1.3775002450844631,\n",
    " -1.4519067604351281,\n",
    " -1.5299412477630139,\n",
    " -1.611076617369892,\n",
    " -1.6948675987478545,\n",
    " -1.7809394016514346,\n",
    " -1.8689769373226002,\n",
    " -1.9587151648345673,\n",
    " -2.049930746752678,\n",
    " -2.142434993373434,\n",
    " -2.236067977499789]"
   ]
  },
  {
   "cell_type": "code",
   "execution_count": 255,
   "metadata": {},
   "outputs": [],
   "source": [
    "D = [-1.0, -1.002578947368421, -1.0106947368421053, -1.0150526315789474, -1.0392736842105263, -1.0644105263157895, -1.095063157894737, -1.1997473684210527, -1.2097157894736843, -1.2481052631578946, -1.295578947368421, -1.5076421052631581, -1.5730631578947367, -1.6581473684210524, -1.771336842105263, -1.8729263157894738, -1.946936842105263, -2.0316947368421054, -2.1512842105263155, -2.1996]"
   ]
  },
  {
   "cell_type": "code",
   "execution_count": 257,
   "metadata": {},
   "outputs": [
    {
     "data": {
      "text/plain": [
       "[-1.0,\n",
       " -1.002578947368421,\n",
       " -1.0106947368421053,\n",
       " -1.0150526315789474,\n",
       " -1.0392736842105263,\n",
       " -1.0644105263157895,\n",
       " -1.095063157894737,\n",
       " -1.1997473684210527,\n",
       " -1.2097157894736843,\n",
       " -1.2481052631578946,\n",
       " -1.295578947368421,\n",
       " -1.5076421052631581,\n",
       " -1.5730631578947367,\n",
       " -1.6581473684210524,\n",
       " -1.771336842105263,\n",
       " -1.8729263157894738,\n",
       " -1.946936842105263,\n",
       " -2.0316947368421054,\n",
       " -2.1512842105263155,\n",
       " -2.1996]"
      ]
     },
     "execution_count": 257,
     "metadata": {},
     "output_type": "execute_result"
    }
   ],
   "source": [
    "D"
   ]
  },
  {
   "cell_type": "code",
   "execution_count": 60,
   "metadata": {},
   "outputs": [
    {
     "data": {
      "image/png": "[encoded data removed]",
      "text/plain": [
       "<Figure size 432x288 with 1 Axes>"
      ]
     },
     "metadata": {
      "needs_background": "light"
     },
     "output_type": "display_data"
    }
   ],
   "source": [
    "K = [-1.0, -1.0028280701754386, -1.0057894736842106, -1.0181052631578946, -1.0352350877192982, -1.0570105263157894, -1.0773192982456141, -1.1249263157894736, -1.1748280701754388, -1.2219438596491228, -1.262842105263158, -1.3588771929824564, -1.430757894736842, -1.547971929824561, -1.6564491228070175, -1.7769192982456143, -1.8917754385964909, -1.9421824561403505, -2.025010526315789, -2.127466666666667]\n",
    "\n",
    "plt.plot(h_range, Exact_E_range, 'o', label = 'Exact')\n",
    "plt.plot(h_range, K, 'o', label = 'VQE')\n",
    "\n",
    "plt.legend()\n",
    "\n",
    "\n",
    "\n",
    "plt.show()"
   ]
  },
  {
   "cell_type": "code",
   "execution_count": 22,
   "metadata": {},
   "outputs": [],
   "source": [
    "Exact_E_range_4 = [-1.0,\n",
    " (-1.0027815608119914+0j),\n",
    " (-1.0112623393301228+0j),\n",
    " (-1.0258369822355347+0j),\n",
    " (-1.0471100187152589+0j),\n",
    " (-1.0757941390421917+0j),\n",
    " (-1.1125452589684024+0j),\n",
    " -1.1577608144610056,\n",
    " (-1.2114169154750476+0j),\n",
    " (-1.273028442062674+0j),\n",
    " (-1.3417514700357418+0j),\n",
    " -1.416563142115615,\n",
    " -1.496430271909644,\n",
    " (-1.5804173209337402+0j),\n",
    " (-1.6677320931131572+0j),\n",
    " (-1.7577298616593815+0j),\n",
    " (-1.8498971422783337+0j),\n",
    " (-1.9438289849594246+0j),\n",
    " (-2.0392067705604915+0j),\n",
    " (-2.1357792050698574+0j)]"
   ]
  },
  {
   "cell_type": "code",
   "execution_count": 23,
   "metadata": {},
   "outputs": [
    {
     "name": "stderr",
     "output_type": "stream",
     "text": [
      "/Users/macbookpro/opt/anaconda3/lib/python3.8/site-packages/numpy/core/_asarray.py:83: ComplexWarning: Casting complex values to real discards the imaginary part\n",
      "  return array(a, dtype, copy=False, order=order)\n"
     ]
    },
    {
     "data": {
      "text/plain": [
       "<matplotlib.legend.Legend at 0x7ffadaac91f0>"
      ]
     },
     "execution_count": 23,
     "metadata": {},
     "output_type": "execute_result"
    },
    {
     "data": {
      "image/png": "[encoded data removed]",
      "text/plain": [
       "<Figure size 432x288 with 1 Axes>"
      ]
     },
     "metadata": {
      "needs_background": "light"
     },
     "output_type": "display_data"
    }
   ],
   "source": [
    "plt.plot(h_range, Exact_E_range_4, 'o', label = 'Exact')\n",
    "plt.plot(h_range, vqe_E_range , 'o', label = 'VQE')\n",
    "\n",
    "plt.legend()"
   ]
  },
  {
   "cell_type": "code",
   "execution_count": null,
   "metadata": {},
   "outputs": [],
   "source": []
  }
 ],
 "metadata": {
  "kernelspec": {
   "display_name": "Python 3",
   "language": "python",
   "name": "python3"
  },
  "language_info": {
   "codemirror_mode": {
    "name": "ipython",
    "version": 3
   },
   "file_extension": ".py",
   "mimetype": "text/x-python",
   "name": "python",
   "nbconvert_exporter": "python",
   "pygments_lexer": "ipython3",
   "version": "3.8.5"
  }
 },
 "nbformat": 4,
 "nbformat_minor": 4
}
